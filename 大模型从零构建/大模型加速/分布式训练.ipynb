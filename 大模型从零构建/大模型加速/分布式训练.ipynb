{
 "cells": [
  {
   "cell_type": "markdown",
   "id": "816cb8e4",
   "metadata": {},
   "source": [
    "视频一：https://www.bilibili.com/video/BV1mm42137X8/?spm_id_from=333.337.search-card.all.click&vd_source=071b23b9c7175dbaf674c65294124341  \n"
   ]
  },
  {
   "cell_type": "markdown",
   "id": "18cdf703",
   "metadata": {},
   "source": [
    "### 技术  \n",
    "下面的方法数据应该都并行了\n",
    "\n",
    "1、DP（Data Parallel）\n",
    "\n",
    "2、DDP（Distributed Data Parallel）\n",
    "\n",
    "上述两个方法都需要在每个GPU中保存完整的模型和优化器状态，因此需要占用大量显存。\n",
    "\n",
    "3、ZeRO（Zero Redundancy Optimizer）  \n",
    "ZeRO-1：主要通过拆分优化器实现，减少了显存占用；  \n",
    "ZeRO-2：在ZeRO-1的基础上，进一步拆分了梯度，减少了显存占用；  \n",
    "ZeRO-3：在ZeRO-2的基础上，进一步拆分了模型参数，减少了显存占用，前两者通讯量与DDP一样，该方法增加了一些通讯量，一般使用ZeRO-2即可\n"
   ]
  }
 ],
 "metadata": {
  "language_info": {
   "name": "python"
  }
 },
 "nbformat": 4,
 "nbformat_minor": 5
}
