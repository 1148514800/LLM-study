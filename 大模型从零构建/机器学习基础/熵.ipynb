{
 "cells": [
  {
   "cell_type": "markdown",
   "id": "830da10f",
   "metadata": {},
   "source": [
    "# 熵"
   ]
  },
  {
   "cell_type": "markdown",
   "id": "c07e786b",
   "metadata": {},
   "source": [
    "视频：https://www.bilibili.com/video/BV1JY411q72n/?spm_id_from=333.337.search-card.all.click&vd_source=071b23b9c7175dbaf674c65294124341"
   ]
  },
  {
   "cell_type": "markdown",
   "id": "db48f7c2",
   "metadata": {},
   "source": [
    "## 注意区分信息量和熵的关系\n",
    "### 信息量\n",
    "$$\n",
    "I(x) = log(\\frac{1}{p(x)}) = -log(p(x))\n",
    "$$\n",
    "\n",
    "$p(x)$表示事件发生的概率，发生的概率越大，信息量越小。\n",
    "\n",
    "### 熵\n",
    "$$\n",
    "H(x) = \\sum_{i=1}^{n}p(x_i) I(x_i) = -\\sum_{i=1}^{n}p(x_i)log(p(x_i))\n",
    "$$\n",
    "\n",
    "熵为描述一个概率分布的平均信息量，熵越大，不确定性越大，即每个事件发生的概率一样。\n",
    "\n",
    "### 交叉熵\n",
    "$$\n",
    "H(p,q) = \\sum_{i=1}^{n}p(x_i) I(q(x_i)) = -\\sum_{i=1}^{n}p(x_i)log(q(x_i))\n",
    "$$\n",
    "\n",
    "交叉熵描述的是在真实概率分布$p$下，使用估计概率分布$q$来表示信息量，交叉熵用于衡量两个概率分布 P 和 Q 之间的差异，最小化交叉熵等价于最小化模型预测分布与真实分布之间的差异。  \n",
    "$H(P, Q) >= H(P)$\n",
    "\n",
    "### KL散度\n",
    "$$\n",
    "KL(P||Q) = H(P,Q) - H(P) = \\sum_{i=1}^{n}p(x_i)log(\\frac{p(x_i)}{q(x_i)})\n",
    "$$\n",
    "\n",
    "KL散度用于衡量两个概率分布 P 和 Q 之间的差异，KL散度越小，两个概率分布越接近。\n",
    "\n",
    "性质：\n",
    "1. 非负性：$KL(P||Q) >= 0$\n",
    "2. 不对称性：$KL(P||Q) != KL(Q||P)$\n",
    "3. $KL(P||Q) = 0$ 当且仅当 $P = Q$\n",
    "\n",
    "求导结果为：\n",
    "$$\n",
    "\\nabla_{\\theta}KL(p||q_\\theta) = \\nabla_{\\theta}H(p,q_\\theta) - \\nabla_{\\theta}H(p) = \\nabla_{\\theta}H(p,q_\\theta)\n",
    "$$\n",
    "因为P为真实分布，与$\\theta$无关"
   ]
  },
  {
   "cell_type": "markdown",
   "id": "83497212",
   "metadata": {},
   "source": []
  }
 ],
 "metadata": {
  "language_info": {
   "name": "python"
  }
 },
 "nbformat": 4,
 "nbformat_minor": 5
}
