{
 "cells": [
  {
   "cell_type": "markdown",
   "id": "502f7128",
   "metadata": {},
   "source": [
    "# 损失函数"
   ]
  },
  {
   "cell_type": "markdown",
   "id": "25209f74",
   "metadata": {},
   "source": [
    "## 1、交叉熵损失函数\n",
    "\n",
    "视频一：https://www.bilibili.com/video/BV1mZ4y1R76t/?spm_id_from=333.337.search-card.all.click&vd_source=071b23b9c7175dbaf674c65294124341  \n",
    "视频二：https://www.bilibili.com/video/BV1MP411r7sL/?spm_id_from=333.337.search-card.all.click&vd_source=071b23b9c7175dbaf674c65294124341\n",
    "\n",
    "对于二分类，似然函数为：\n",
    "$$\n",
    "L(\\theta) = P(y|x;\\theta) = \\hat{y}^y(1-\\hat{y})^{1-y}\n",
    "$$\n",
    "\n",
    "对于多分类，onehot，似然函数为：\n",
    "$$\n",
    "L(\\theta) = P(y|x;\\theta) = \\prod_{c=1}^{C} \\hat{y_c}^{y_c}\n",
    "$$\n",
    "\n",
    "在计算过程中，由于只有真实标签为1，其余为0，$\\prod_{c=1}^{C} \\hat{y_c}^{y_c}$只有一项不为1，其余都为1\n",
    "\n",
    "如果进行多个采样，则似然函数为：\n",
    "$$\n",
    "L(\\theta) = \\arg\\max \\prod_{i=1}^{N} P(y_i|x_i;\\theta) = \\arg\\max \\prod_{i=1}^{N} \\prod_{c=1}^{C} \\hat{y_c}^{y_c}\n",
    "$$\n",
    "\n",
    "对似然函数取对数，得到对数似然函数：\n",
    "$$\n",
    "\\ln L(\\theta) = \\arg\\max \\sum_{i=1}^{N} \\sum_{c=1}^{C} y_{ic} \\ln \\hat{y_c}\n",
    "$$\n",
    "\n",
    "对对数似然函数取负，得到交叉熵损失函数：\n",
    "$$\n",
    "L(\\theta) = -\\ln L(\\theta) = \\arg\\min -\\sum_{i=1}^{N} \\sum_{c=1}^{C} y_{ic} \\ln \\hat{y_c}\n",
    "$$\n",
    "\n",
    "<div align=\"center\">\n",
    "    <img src=\"损失函数/损失函数.png\" alt=\"图片描述\" width=\"600\"/>\n",
    "</div>\n",
    "\n",
    "\n"
   ]
  },
  {
   "cell_type": "markdown",
   "id": "084f964e",
   "metadata": {},
   "source": []
  }
 ],
 "metadata": {
  "language_info": {
   "name": "python"
  }
 },
 "nbformat": 4,
 "nbformat_minor": 5
}
