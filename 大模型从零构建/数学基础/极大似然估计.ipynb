{
 "cells": [
  {
   "cell_type": "markdown",
   "id": "10d595e9",
   "metadata": {},
   "source": [
    "# 极大似然估计"
   ]
  },
  {
   "cell_type": "markdown",
   "id": "56267928",
   "metadata": {},
   "source": [
    "视频一：https://www.bilibili.com/video/BV1QM4y167oZ/?spm_id_from=333.337.search-card.all.click&vd_source=071b23b9c7175dbaf674c65294124341"
   ]
  },
  {
   "cell_type": "markdown",
   "id": "8f3f3ead",
   "metadata": {},
   "source": [
    "## 似然函数\n",
    "假设有一个概率模型，其参数为 θ，样本数据为 X={$x_1,x_2,...,x_n$}。似然函数 L(θ∣X) 表示在参数 θ 下，样本数据 X 出现的概率。对于离散型随机变量，似然函数是样本的概率质量函数的乘积；对于连续型随机变量，似然函数是样本的概率密度函数的乘积。\n",
    "### 数学表达式\n",
    "假设样本 X={$x_1,x_2,...,x_n$} 是独立同分布的，且每个样本的概率密度函数为 f($x_i$∣θ)，则似然函数为：\n",
    "$$\n",
    "L(θ∣X) = \\prod_{i=1}^{n} f(x_i|θ)\n",
    "$$\n",
    "其中，θ 是模型的参数，X 是样本数据，f($x_i$∣θ) 是样本 $x_i$ 在参数 θ 下的概率密度函数。\n",
    "\n",
    "### 似然函数的性质\n",
    "1. 似然函数是参数 θ 的函数，而不是样本 X 的函数。\n",
    "2. 似然函数的值越大，表示在参数 θ 下，样本数据 X 出现的概率越大。"
   ]
  },
  {
   "cell_type": "markdown",
   "id": "ab67e5b0",
   "metadata": {},
   "source": [
    "## 极大似然估计\n",
    "通过选择参数 θ，使得似然函数 L(θ∣X) 达到最大值。即找到一个参数 $\\hat{\\theta}$，使得 L( $\\hat{\\theta}$∣X)≥L(θ∣X) 对所有可能的 θ 都成立。\n",
    "### 数学表达式\n",
    "假设样本 X={$x_1,x_2,...,x_n$} 是独立同分布的，且每个样本的概率密度函数为 f($x_i$∣θ)，则似然函数为：\n",
    "$$\n",
    "L(θ∣X) = \\prod_{i=1}^{n} f(x_i|θ)\n",
    "$$\n",
    "为了计算方便，通常取对数似然函数：\n",
    "$$\n",
    "l(θ∣X) = \\log L(θ∣X) = \\sum_{i=1}^{n} \\log f(x_i|θ)\n",
    "$$\n",
    "然后，通过求导数并令导数为0，找到使对数似然函数最大的参数 $\\hat{\\theta}$，即：\n",
    "$$\n",
    "\\hat{\\theta} = \\arg\\max_{θ} l(θ∣X)\n",
    "$$\n",
    "### 极大似然估计的性质\n",
    "1. 极大似然估计是无偏的，即 E($\\hat{\\theta}$) = θ。\n",
    "2. 极大似然估计的方差通常比其他估计方法要小。\n"
   ]
  },
  {
   "cell_type": "markdown",
   "id": "128d2e6d",
   "metadata": {},
   "source": []
  }
 ],
 "metadata": {
  "language_info": {
   "name": "python"
  }
 },
 "nbformat": 4,
 "nbformat_minor": 5
}
