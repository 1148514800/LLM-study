{
 "cells": [
  {
   "cell_type": "markdown",
   "id": "2e66bf29",
   "metadata": {},
   "source": [
    "装饰器是 Python 中一种非常强大的功能，用于在不修改原始函数或类代码的情况下，动态地增加函数或类的功能。装饰器本质上是一个函数，它接收一个函数或类作为参数，并返回一个新的函数或类。\n",
    "\n",
    "装饰器可以用于以下几种场景：\n",
    "\n",
    "1. **日志记录**：在函数执行前后记录日志信息。\n",
    "2. **性能测试**：测量函数执行的时间。\n",
    "3. **权限验证**：在函数执行前进行权限验证。\n",
    "4. **缓存**：缓存函数的返回值，避免重复计算。\n",
    "\n",
    "1、下面是一个简单的装饰器函数示例，用于记录函数的执行时间：\n",
    "\n",
    "```python\n",
    "import time\n",
    "\n",
    "def timer(func):\n",
    "    def wrapper(*args, **kwargs):\n",
    "        start_time = time.time()\n",
    "        result = func(*args, **kwargs)\n",
    "        end_time = time.time()\n",
    "\n",
    "        print(f\"函数 {func.__name__} 执行时间：{end_time - start_time} 秒\")\n",
    "        return result\n",
    "    return wrapper\n",
    "\n",
    "@timer\n",
    "def my_function():\n",
    "    time.sleep(2)\n",
    "    print(\"函数执行完毕\")\n",
    "\n",
    "my_function()\n",
    "\n",
    "输出结果：  \n",
    "函数执行完毕\n",
    "函数 my_function 执行时间：2.0001234567890123 秒\n",
    "```\n",
    "\n",
    "在上面的示例中，`timer` 是一个装饰器函数，它接收一个函数 `func` 作为参数，并返回一个新的函数 `wrapper`。`wrapper` 函数在执行 `func` 函数前后记录了执行时间，并打印出来。\n"
   ]
  },
  {
   "cell_type": "code",
   "execution_count": 1,
   "id": "ebdd46c1",
   "metadata": {},
   "outputs": [
    {
     "name": "stdout",
     "output_type": "stream",
     "text": [
      "函数执行完毕\n",
      "函数 my_function 执行时间：2.0002732276916504 秒\n"
     ]
    }
   ],
   "source": [
    "import time\n",
    "\n",
    "def timer(func):\n",
    "    def wrapper(*args, **kwargs):\n",
    "        start_time = time.time()\n",
    "        result = func(*args, **kwargs)\n",
    "        end_time = time.time()\n",
    "\n",
    "        print(f\"函数 {func.__name__} 执行时间：{end_time - start_time} 秒\")\n",
    "        return result\n",
    "    return wrapper\n",
    "\n",
    "@timer\n",
    "def my_function():\n",
    "    time.sleep(2)\n",
    "    print(\"函数执行完毕\")\n",
    "\n",
    "my_function()"
   ]
  },
  {
   "cell_type": "markdown",
   "id": "bd1795cf",
   "metadata": {},
   "source": [
    "2、装饰器不仅可以用于函数，还可以用于类。类装饰器可以用来修改类的行为或添加新的属性和方法。  "
   ]
  },
  {
   "cell_type": "code",
   "execution_count": null,
   "id": "916fc936",
   "metadata": {},
   "outputs": [],
   "source": [
    "def add_method(cls):\n",
    "    def new_method(self):\n",
    "        print(\"This is a new method.\")\n",
    "    cls.new_method = new_method\n",
    "    return cls\n",
    "\n",
    "@add_method\n",
    "class MyClass:\n",
    "    def __init__(self, name):\n",
    "        self.name = name\n",
    "\n",
    "    def greet(self):\n",
    "        print(f\"Hello, my name is {self.name}.\")\n",
    "\n",
    "obj = MyClass(\"Kimi\")\n",
    "obj.greet()\n",
    "obj.new_method()"
   ]
  }
 ],
 "metadata": {
  "kernelspec": {
   "display_name": "deepseek2",
   "language": "python",
   "name": "python3"
  },
  "language_info": {
   "codemirror_mode": {
    "name": "ipython",
    "version": 3
   },
   "file_extension": ".py",
   "mimetype": "text/x-python",
   "name": "python",
   "nbconvert_exporter": "python",
   "pygments_lexer": "ipython3",
   "version": "3.12.2"
  }
 },
 "nbformat": 4,
 "nbformat_minor": 5
}
