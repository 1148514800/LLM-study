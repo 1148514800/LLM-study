{
 "cells": [
  {
   "cell_type": "markdown",
   "id": "5186766e",
   "metadata": {},
   "source": [
    "# trainer\n",
    "\n",
    "视频一：https://www.bilibili.com/video/BV1b8411y7rR/?spm_id_from=333.337.search-card.all.click&vd_source=071b23b9c7175dbaf674c65294124341"
   ]
  },
  {
   "cell_type": "markdown",
   "id": "9add117d",
   "metadata": {},
   "source": [
    "<div align=\"center\">\n",
    "    <img src=\"trainer/trainer.png\" alt=\"图片描述\" width=\"600\"/>\n",
    "</div>"
   ]
  },
  {
   "cell_type": "markdown",
   "id": "68720ba1",
   "metadata": {},
   "source": []
  }
 ],
 "metadata": {
  "language_info": {
   "name": "python"
  }
 },
 "nbformat": 4,
 "nbformat_minor": 5
}
