{
 "cells": [
  {
   "cell_type": "markdown",
   "id": "8d5f31fc",
   "metadata": {},
   "source": [
    "FP32为全精度；BF16表示的范围与FP32一致，但是牺牲了一些精度；FP16表示的范围比FP32小，精度也比FP32下降，但是精度比比BF16高。\n",
    "\n",
    "<div align=\"center\">\n",
    "    <img src=\"精度/不同精度对比.png\" alt=\"图片描述\" width=\"800\"/>\n",
    "</div>"
   ]
  },
  {
   "cell_type": "markdown",
   "id": "69508f84",
   "metadata": {},
   "source": []
  }
 ],
 "metadata": {
  "language_info": {
   "name": "python"
  }
 },
 "nbformat": 4,
 "nbformat_minor": 5
}
