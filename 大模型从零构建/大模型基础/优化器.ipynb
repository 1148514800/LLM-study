{
 "cells": [
  {
   "cell_type": "markdown",
   "id": "6eef42f9",
   "metadata": {},
   "source": [
    "# 优化器"
   ]
  },
  {
   "cell_type": "markdown",
   "id": "3ce7820d",
   "metadata": {},
   "source": [
    "## 指数加权平均\n",
    "$$\n",
    "V_0 = 0 \\\\\n",
    "V_t = \\beta V_{t-1} + (1-\\beta)g_t \\\\\n",
    "V_t^{correct} = \\frac{V_t}{1-\\beta^t}\n",
    "$$\n",
    "\n",
    "$V_t^{correct} = \\frac{V_t}{1-\\beta^t}$为修正函数，当t很大时，修正函数接近1，当t很小的时候，修正函数接近\\beta。\n",
    "\n"
   ]
  },
  {
   "cell_type": "markdown",
   "id": "7661282c",
   "metadata": {},
   "source": [
    "# SGD\n",
    "$$\n",
    "\\theta_{t+1} = \\theta_t - r g_t\n",
    "$$\n",
    "\n",
    "<div align=\"center\">\n",
    "    <img src=\"优化器/SGD.png\" alt=\"图片描述\" width=\"600\"/>\n",
    "</div>\n"
   ]
  },
  {
   "cell_type": "markdown",
   "id": "4b3e8335",
   "metadata": {},
   "source": [
    "# Momentum\n",
    "$$\n",
    "\\theta_{t+1} = \\theta_t - \\eta g_t + \\beta v_t \\\\\n",
    "v_t = \\beta v_{t-1} + (1-\\beta)g_t\n",
    "$$\n",
    "\n",
    "<div align=\"center\">\n",
    "    <img src=\"优化器/Momentum.png\" alt=\"图片描述\" width=\"600\"/>\n",
    "</div>\n",
    "\n",
    "对于得到的梯度先用指数加权平均进行处理，然后进行更新。"
   ]
  },
  {
   "cell_type": "markdown",
   "id": "0784348b",
   "metadata": {},
   "source": [
    "# RMSprop\n",
    "$$\n",
    "\\theta_{t+1} = \\theta_t - \\eta \\frac{g_t}{\\sqrt{V_t} + \\epsilon} \\\\\n",
    "V_t = \\beta V_{t-1} + (1-\\beta)g_t^2\n",
    "$$\n",
    "\n",
    "<div align=\"center\">\n",
    "    <img src=\"优化器/RMSProp.png\" alt=\"图片描述\" width=\"600\"/>\n",
    "</div>\n",
    "\n"
   ]
  },
  {
   "cell_type": "markdown",
   "id": "cb64ac48",
   "metadata": {},
   "source": [
    "\n",
    "# Adam\n",
    "$$\n",
    "\\theta_{t+1} = \\theta_t - \\eta \\frac{m_t}{\\sqrt{v_t} + \\epsilon} \\\\\n",
    "m_t = \\beta_1 m_{t-1} + (1-\\beta_1)g_t \\\\\n",
    "v_t = \\beta_2 v_{t-1} + (1-\\beta_2)g_t^2 \\\\\n",
    "m_t^{correct} = \\frac{m_t}{1-\\beta_1^t} \\\\\n",
    "v_t^{correct} = \\frac{v_t}{1-\\beta_2^t}\n",
    "$$\n",
    "\n",
    "<div align=\"center\">\n",
    "    <img src=\"优化器/Adam.png\" alt=\"图片描述\" width=\"600\"/>\n",
    "</div>\n"
   ]
  },
  {
   "cell_type": "markdown",
   "id": "c7c661bc",
   "metadata": {},
   "source": [
    "# AdamW\n",
    "$$\n",
    "\\theta_{t+1} = \\theta_t - \\eta \\frac{m_t}{\\sqrt{v_t} + \\epsilon} - r \\lambda \\theta_t \\\\\n",
    "m_t = \\beta_1 m_{t-1} + (1-\\beta_1)g_t \\\\\n",
    "v_t = \\beta_2 v_{t-1} + (1-\\beta_2)g_t^2 \\\\\n",
    "m_t^{correct} = \\frac{m_t}{1-\\beta_1^t} \\\\\n",
    "v_t^{correct} = \\frac{v_t}{1-\\beta_2^t}\n",
    "$$\n",
    "\n",
    "<div align=\"center\">\n",
    "    <img src=\"优化器/AdamW.png\" alt=\"图片描述\" width=\"600\"/>\n",
    "</div>"
   ]
  },
  {
   "cell_type": "markdown",
   "id": "fcdb38c9",
   "metadata": {},
   "source": []
  }
 ],
 "metadata": {
  "kernelspec": {
   "display_name": "deepseek2",
   "language": "python",
   "name": "python3"
  },
  "language_info": {
   "name": "python",
   "version": "3.12.2"
  }
 },
 "nbformat": 4,
 "nbformat_minor": 5
}
