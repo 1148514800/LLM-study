{
 "cells": [
  {
   "cell_type": "markdown",
   "id": "510fb1ee",
   "metadata": {},
   "source": [
    "博客一：https://zhuanlan.zhihu.com/p/15698281927  \n",
    "博客二：https://blog.csdn.net/qq_36846729/article/details/145709885  \n",
    "顺序为top_k的在top_p前面，temperature一般都在放在最前面"
   ]
  }
 ],
 "metadata": {
  "language_info": {
   "name": "python"
  }
 },
 "nbformat": 4,
 "nbformat_minor": 5
}
