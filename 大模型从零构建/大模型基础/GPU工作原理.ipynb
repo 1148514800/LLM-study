{
 "cells": [
  {
   "cell_type": "markdown",
   "id": "9e9249c0",
   "metadata": {},
   "source": [
    "# GPU工作原理"
   ]
  },
  {
   "cell_type": "markdown",
   "id": "75caeee6",
   "metadata": {},
   "source": [
    "视频：https://www.bilibili.com/video/BV1rH4y1c7Zs/?spm_id_from=333.1387.upload.video_card.click&vd_source=071b23b9c7175dbaf674c65294124341\n",
    "\n",
    "CPU和GPU的区别\n",
    "\n",
    "CPU：每次处理一个任务，串行处理\n",
    "\n",
    "GPU：每次处理多个任务，并行处理\n",
    "\n"
   ]
  }
 ],
 "metadata": {
  "language_info": {
   "name": "python"
  }
 },
 "nbformat": 4,
 "nbformat_minor": 5
}
