{
 "cells": [
  {
   "cell_type": "markdown",
   "id": "53eeae47",
   "metadata": {},
   "source": [
    "# 梯度检查点（激活值检查点、Gradient CheckPointing）"
   ]
  },
  {
   "cell_type": "markdown",
   "id": "90cee83a",
   "metadata": {},
   "source": [
    "视频：https://www.bilibili.com/video/BV1nJ4m1M7Qw/?spm_id_from=333.1387.search.video_card.click&vd_source=071b23b9c7175dbaf674c65294124341\n",
    "\n",
    "用时间换空间，减少显存占用"
   ]
  }
 ],
 "metadata": {
  "language_info": {
   "name": "python"
  }
 },
 "nbformat": 4,
 "nbformat_minor": 5
}
