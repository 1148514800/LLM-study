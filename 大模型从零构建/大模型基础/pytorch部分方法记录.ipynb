{
 "cells": [
  {
   "cell_type": "markdown",
   "id": "48a8e272",
   "metadata": {},
   "source": [
    "## nn.Parameter()  \n",
    "Q：为什么不用torch.Tensor直接设置requires_grad=True？  \n",
    "A：虽然能计算梯度，但优化器无法通过model.parameters()找到它，仍需手动注册到优化器。  "
   ]
  },
  {
   "cell_type": "code",
   "execution_count": 4,
   "id": "2b4127bf",
   "metadata": {},
   "outputs": [
    {
     "name": "stdout",
     "output_type": "stream",
     "text": [
      "tensor([1., 1., 1.])\n",
      "----------------------------------------\n",
      "Parameter containing:\n",
      "tensor([1., 1., 1.], requires_grad=True)\n"
     ]
    }
   ],
   "source": [
    "import torch\n",
    "import torch.nn as nn\n",
    "print(torch.ones(3))\n",
    "print(f'-'*40)\n",
    "print(nn.Parameter(torch.ones(3)))"
   ]
  },
  {
   "cell_type": "code",
   "execution_count": null,
   "id": "bdfa5648",
   "metadata": {},
   "outputs": [],
   "source": []
  }
 ],
 "metadata": {
  "kernelspec": {
   "display_name": "deepseek2",
   "language": "python",
   "name": "python3"
  },
  "language_info": {
   "codemirror_mode": {
    "name": "ipython",
    "version": 3
   },
   "file_extension": ".py",
   "mimetype": "text/x-python",
   "name": "python",
   "nbconvert_exporter": "python",
   "pygments_lexer": "ipython3",
   "version": "3.12.2"
  }
 },
 "nbformat": 4,
 "nbformat_minor": 5
}
